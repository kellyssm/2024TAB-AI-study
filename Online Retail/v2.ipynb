{
 "cells": [
  {
   "cell_type": "code",
   "execution_count": 1,
   "id": "13f9cb50",
   "metadata": {},
   "outputs": [],
   "source": [
    "import pandas as pd\n",
    "import numpy as np\n",
    "import matplotlib.pyplot as plt\n",
    "import seaborn as sns"
   ]
  },
  {
   "cell_type": "code",
   "execution_count": 2,
   "id": "d0ff3197",
   "metadata": {},
   "outputs": [
    {
     "name": "stdout",
     "output_type": "stream",
     "text": [
      "dataset: (541909, 8)\n"
     ]
    }
   ],
   "source": [
    "dataset = pd.read_excel(\"Online Retail.xlsx\")\n",
    "print(f\"dataset: {dataset.shape}\")\n"
   ]
  },
  {
   "cell_type": "code",
   "execution_count": 3,
   "id": "35a865ea",
   "metadata": {},
   "outputs": [
    {
     "data": {
      "text/html": [
       "<div>\n",
       "<style scoped>\n",
       "    .dataframe tbody tr th:only-of-type {\n",
       "        vertical-align: middle;\n",
       "    }\n",
       "\n",
       "    .dataframe tbody tr th {\n",
       "        vertical-align: top;\n",
       "    }\n",
       "\n",
       "    .dataframe thead th {\n",
       "        text-align: right;\n",
       "    }\n",
       "</style>\n",
       "<table border=\"1\" class=\"dataframe\">\n",
       "  <thead>\n",
       "    <tr style=\"text-align: right;\">\n",
       "      <th></th>\n",
       "      <th>InvoiceNo</th>\n",
       "      <th>StockCode</th>\n",
       "      <th>Description</th>\n",
       "      <th>Quantity</th>\n",
       "      <th>InvoiceDate</th>\n",
       "      <th>UnitPrice</th>\n",
       "      <th>CustomerID</th>\n",
       "      <th>Country</th>\n",
       "    </tr>\n",
       "  </thead>\n",
       "  <tbody>\n",
       "    <tr>\n",
       "      <th>0</th>\n",
       "      <td>536365</td>\n",
       "      <td>85123A</td>\n",
       "      <td>WHITE HANGING HEART T-LIGHT HOLDER</td>\n",
       "      <td>6</td>\n",
       "      <td>2010-12-01 08:26:00</td>\n",
       "      <td>2.55</td>\n",
       "      <td>17850.0</td>\n",
       "      <td>United Kingdom</td>\n",
       "    </tr>\n",
       "    <tr>\n",
       "      <th>1</th>\n",
       "      <td>536365</td>\n",
       "      <td>71053</td>\n",
       "      <td>WHITE METAL LANTERN</td>\n",
       "      <td>6</td>\n",
       "      <td>2010-12-01 08:26:00</td>\n",
       "      <td>3.39</td>\n",
       "      <td>17850.0</td>\n",
       "      <td>United Kingdom</td>\n",
       "    </tr>\n",
       "    <tr>\n",
       "      <th>2</th>\n",
       "      <td>536365</td>\n",
       "      <td>84406B</td>\n",
       "      <td>CREAM CUPID HEARTS COAT HANGER</td>\n",
       "      <td>8</td>\n",
       "      <td>2010-12-01 08:26:00</td>\n",
       "      <td>2.75</td>\n",
       "      <td>17850.0</td>\n",
       "      <td>United Kingdom</td>\n",
       "    </tr>\n",
       "    <tr>\n",
       "      <th>3</th>\n",
       "      <td>536365</td>\n",
       "      <td>84029G</td>\n",
       "      <td>KNITTED UNION FLAG HOT WATER BOTTLE</td>\n",
       "      <td>6</td>\n",
       "      <td>2010-12-01 08:26:00</td>\n",
       "      <td>3.39</td>\n",
       "      <td>17850.0</td>\n",
       "      <td>United Kingdom</td>\n",
       "    </tr>\n",
       "    <tr>\n",
       "      <th>4</th>\n",
       "      <td>536365</td>\n",
       "      <td>84029E</td>\n",
       "      <td>RED WOOLLY HOTTIE WHITE HEART.</td>\n",
       "      <td>6</td>\n",
       "      <td>2010-12-01 08:26:00</td>\n",
       "      <td>3.39</td>\n",
       "      <td>17850.0</td>\n",
       "      <td>United Kingdom</td>\n",
       "    </tr>\n",
       "  </tbody>\n",
       "</table>\n",
       "</div>"
      ],
      "text/plain": [
       "  InvoiceNo StockCode                          Description  Quantity  \\\n",
       "0    536365    85123A   WHITE HANGING HEART T-LIGHT HOLDER         6   \n",
       "1    536365     71053                  WHITE METAL LANTERN         6   \n",
       "2    536365    84406B       CREAM CUPID HEARTS COAT HANGER         8   \n",
       "3    536365    84029G  KNITTED UNION FLAG HOT WATER BOTTLE         6   \n",
       "4    536365    84029E       RED WOOLLY HOTTIE WHITE HEART.         6   \n",
       "\n",
       "          InvoiceDate  UnitPrice  CustomerID         Country  \n",
       "0 2010-12-01 08:26:00       2.55     17850.0  United Kingdom  \n",
       "1 2010-12-01 08:26:00       3.39     17850.0  United Kingdom  \n",
       "2 2010-12-01 08:26:00       2.75     17850.0  United Kingdom  \n",
       "3 2010-12-01 08:26:00       3.39     17850.0  United Kingdom  \n",
       "4 2010-12-01 08:26:00       3.39     17850.0  United Kingdom  "
      ]
     },
     "execution_count": 3,
     "metadata": {},
     "output_type": "execute_result"
    }
   ],
   "source": [
    "dataset.head()\n",
    "\n",
    "# invoiceNo:주문 번호/ StockCode: 제품 코드/ Description: 제품 설명\n",
    "# Quantity: 주문된 제품의 수량/ InvoiceDate: 주문 날짜/ UnitPrice: 제품의 단가\n",
    "# CustomerID: 고객 식별 번호/ Country: 고객이 속한 국가"
   ]
  },
  {
   "cell_type": "code",
   "execution_count": 4,
   "id": "a7acbfa9",
   "metadata": {},
   "outputs": [
    {
     "data": {
      "text/html": [
       "<div>\n",
       "<style scoped>\n",
       "    .dataframe tbody tr th:only-of-type {\n",
       "        vertical-align: middle;\n",
       "    }\n",
       "\n",
       "    .dataframe tbody tr th {\n",
       "        vertical-align: top;\n",
       "    }\n",
       "\n",
       "    .dataframe thead th {\n",
       "        text-align: right;\n",
       "    }\n",
       "</style>\n",
       "<table border=\"1\" class=\"dataframe\">\n",
       "  <thead>\n",
       "    <tr style=\"text-align: right;\">\n",
       "      <th></th>\n",
       "      <th>Quantity</th>\n",
       "      <th>UnitPrice</th>\n",
       "      <th>CustomerID</th>\n",
       "    </tr>\n",
       "  </thead>\n",
       "  <tbody>\n",
       "    <tr>\n",
       "      <th>count</th>\n",
       "      <td>541909.000000</td>\n",
       "      <td>541909.000000</td>\n",
       "      <td>406829.000000</td>\n",
       "    </tr>\n",
       "    <tr>\n",
       "      <th>mean</th>\n",
       "      <td>9.552250</td>\n",
       "      <td>4.611114</td>\n",
       "      <td>15287.690570</td>\n",
       "    </tr>\n",
       "    <tr>\n",
       "      <th>std</th>\n",
       "      <td>218.081158</td>\n",
       "      <td>96.759853</td>\n",
       "      <td>1713.600303</td>\n",
       "    </tr>\n",
       "    <tr>\n",
       "      <th>min</th>\n",
       "      <td>-80995.000000</td>\n",
       "      <td>-11062.060000</td>\n",
       "      <td>12346.000000</td>\n",
       "    </tr>\n",
       "    <tr>\n",
       "      <th>25%</th>\n",
       "      <td>1.000000</td>\n",
       "      <td>1.250000</td>\n",
       "      <td>13953.000000</td>\n",
       "    </tr>\n",
       "    <tr>\n",
       "      <th>50%</th>\n",
       "      <td>3.000000</td>\n",
       "      <td>2.080000</td>\n",
       "      <td>15152.000000</td>\n",
       "    </tr>\n",
       "    <tr>\n",
       "      <th>75%</th>\n",
       "      <td>10.000000</td>\n",
       "      <td>4.130000</td>\n",
       "      <td>16791.000000</td>\n",
       "    </tr>\n",
       "    <tr>\n",
       "      <th>max</th>\n",
       "      <td>80995.000000</td>\n",
       "      <td>38970.000000</td>\n",
       "      <td>18287.000000</td>\n",
       "    </tr>\n",
       "  </tbody>\n",
       "</table>\n",
       "</div>"
      ],
      "text/plain": [
       "            Quantity      UnitPrice     CustomerID\n",
       "count  541909.000000  541909.000000  406829.000000\n",
       "mean        9.552250       4.611114   15287.690570\n",
       "std       218.081158      96.759853    1713.600303\n",
       "min    -80995.000000  -11062.060000   12346.000000\n",
       "25%         1.000000       1.250000   13953.000000\n",
       "50%         3.000000       2.080000   15152.000000\n",
       "75%        10.000000       4.130000   16791.000000\n",
       "max     80995.000000   38970.000000   18287.000000"
      ]
     },
     "execution_count": 4,
     "metadata": {},
     "output_type": "execute_result"
    }
   ],
   "source": [
    "dataset.describe()"
   ]
  },
  {
   "cell_type": "code",
   "execution_count": 5,
   "id": "04abd2d4",
   "metadata": {},
   "outputs": [],
   "source": [
    "# 주문 고객 국가 영국 데이터만 필터링\n",
    "dataset = dataset[dataset[\"Country\"] == \"United Kingdom\"]"
   ]
  },
  {
   "cell_type": "code",
   "execution_count": 6,
   "id": "29164654",
   "metadata": {},
   "outputs": [
    {
     "data": {
      "text/plain": [
       "InvoiceNo           0\n",
       "StockCode           0\n",
       "Description      1454\n",
       "Quantity            0\n",
       "InvoiceDate         0\n",
       "UnitPrice           0\n",
       "CustomerID     133600\n",
       "Country             0\n",
       "dtype: int64"
      ]
     },
     "execution_count": 6,
     "metadata": {},
     "output_type": "execute_result"
    }
   ],
   "source": [
    "dataset.isnull().sum()"
   ]
  },
  {
   "cell_type": "markdown",
   "id": "fa56207c",
   "metadata": {},
   "source": [
    "## RFM"
   ]
  },
  {
   "cell_type": "code",
   "execution_count": 7,
   "id": "17385244",
   "metadata": {},
   "outputs": [],
   "source": [
    "dataset[\"TotalPrice\"] = dataset[\"Quantity\"] * dataset[\"UnitPrice\"]\n",
    "\n",
    "\n",
    "# 고객별 데이터 요약 (RFM 변수 생성)\n",
    "customer_df = dataset.groupby(\"CustomerID\").agg({\n",
    "    \"InvoiceDate\": \"max\",               # Recency\n",
    "    \"InvoiceNo\": \"nunique\",              # Frequency\n",
    "    \"TotalPrice\": \"sum\"                  # Monetary\n",
    "}).reset_index()\n",
    "\n",
    "\n",
    "\n",
    "# 변수 이름 변경\n",
    "customer_df.rename(columns={\"InvoiceDate\": \"Recency\", \"InvoiceNo\": \"Frequency\", \"TotalPrice\": \"Monetary\"}, inplace=True)\n",
    "\n",
    "\n",
    "\n",
    "# Recency 값 변환: 마지막 구매일로부터의 일수 계산\n",
    "reference_date = customer_df[\"Recency\"].max()\n",
    "customer_df[\"Recency\"] = (reference_date - customer_df[\"Recency\"]).dt.days"
   ]
  },
  {
   "cell_type": "code",
   "execution_count": 8,
   "id": "3989e31b",
   "metadata": {},
   "outputs": [],
   "source": [
    "\n",
    "# 음수가 나올 수가 없음. 음수값 제거\n",
    "customer_df[\"Recency\"] = np.where(customer_df[\"Recency\"] < 0, np.nan, customer_df[\"Recency\"])\n",
    "\n",
    "customer_df[\"Frequency\"] = np.where(customer_df[\"Frequency\"] < 0, 0, customer_df[\"Frequency\"])\n",
    "\n"
   ]
  },
  {
   "cell_type": "code",
   "execution_count": 9,
   "id": "0c504eb7",
   "metadata": {},
   "outputs": [
    {
     "data": {
      "text/plain": [
       "InvoiceNo           0\n",
       "StockCode           0\n",
       "Description      1454\n",
       "Quantity            0\n",
       "InvoiceDate         0\n",
       "UnitPrice           0\n",
       "CustomerID     133600\n",
       "Country             0\n",
       "TotalPrice          0\n",
       "dtype: int64"
      ]
     },
     "execution_count": 9,
     "metadata": {},
     "output_type": "execute_result"
    }
   ],
   "source": [
    "dataset.isnull().sum()"
   ]
  },
  {
   "cell_type": "markdown",
   "id": "7dfdee56",
   "metadata": {},
   "source": [
    "## 스케일링"
   ]
  },
  {
   "cell_type": "code",
   "execution_count": 10,
   "id": "3885cf92",
   "metadata": {},
   "outputs": [],
   "source": [
    "from sklearn.preprocessing import StandardScaler\n",
    "from sklearn.cluster import KMeans\n",
    "\n",
    "\n",
    "scaler = StandardScaler()\n",
    "scaled_data = scaler.fit_transform(customer_df[[\"Recency\", \"Frequency\", \"Monetary\"]])"
   ]
  },
  {
   "cell_type": "code",
   "execution_count": 11,
   "id": "539ba1eb",
   "metadata": {},
   "outputs": [
    {
     "name": "stdout",
     "output_type": "stream",
     "text": [
      "   CustomerID  Recency  Frequency  Monetary  Scaled_Recency  Scaled_Frequency  \\\n",
      "0     12346.0    325.0          2      0.00        2.337128         -0.347294   \n",
      "1     12747.0      1.0         11   4196.01       -0.895835          0.685265   \n",
      "2     12748.0      0.0        224  29072.10       -0.905813         25.122514   \n",
      "3     12749.0      3.0          8   3868.20       -0.875878          0.341079   \n",
      "4     12820.0      2.0          4    942.34       -0.885857         -0.117837   \n",
      "\n",
      "   Scaled_Monetary  \n",
      "0        -0.261674  \n",
      "1         0.379155  \n",
      "2         4.178320  \n",
      "3         0.329091  \n",
      "4        -0.117757  \n"
     ]
    }
   ],
   "source": [
    "#스케일링 전후 비교\n",
    "\n",
    "# 스케일링된 데이터를 데이터프레임에 추가\n",
    "scaled_df = pd.DataFrame(scaled_data, columns=[\"Scaled_Recency\", \"Scaled_Frequency\", \"Scaled_Monetary\"])\n",
    "\n",
    "# 원본 데이터와 스케일링된 데이터를 합친 데이터프레임\n",
    "customer_df_scaled = pd.concat([customer_df, scaled_df], axis=1)\n",
    "\n",
    "# 결과 출력\n",
    "print(customer_df_scaled.head())"
   ]
  },
  {
   "cell_type": "code",
   "execution_count": 16,
   "id": "521a95f3",
   "metadata": {},
   "outputs": [],
   "source": [
    "from sklearn.cluster import KMeans\n",
    "\n",
    "# KMeans 클러스터링 수행 (클러스터 수 3)\n",
    "kmeans = KMeans(n_clusters=3, random_state=42)\n",
    "scaled_df['Cluster'] = kmeans.fit_predict(scaled_df[[\"Scaled_Recency\", \"Scaled_Frequency\", \"Scaled_Monetary\"]])\n",
    "\n"
   ]
  },
  {
   "cell_type": "markdown",
   "id": "8f7d009d",
   "metadata": {},
   "source": [
    "## PCA"
   ]
  },
  {
   "cell_type": "code",
   "execution_count": 17,
   "id": "9caf0312",
   "metadata": {},
   "outputs": [
    {
     "name": "stdout",
     "output_type": "stream",
     "text": [
      "PCA 결과:\n",
      "[[-1.60225325  1.87929329]\n",
      " [ 1.12038344 -0.44333228]\n",
      " [19.07941354  7.11160281]\n",
      " ...\n",
      " [ 0.15121871 -0.90813173]\n",
      " [ 1.2879434  -0.43202172]\n",
      " [ 0.13981577 -0.51262526]]\n"
     ]
    }
   ],
   "source": [
    "from sklearn.decomposition import PCA\n",
    "\n",
    "pca = PCA(n_components=2)\n",
    "pca_data = pca.fit_transform(scaled_df)\n",
    "\n",
    "print(\"PCA 결과:\")\n",
    "print(pca_data)"
   ]
  },
  {
   "cell_type": "code",
   "execution_count": 18,
   "id": "9872780b",
   "metadata": {},
   "outputs": [
    {
     "name": "stdout",
     "output_type": "stream",
     "text": [
      "Silhouette Score: 0.6555613320472979\n"
     ]
    }
   ],
   "source": [
    "from sklearn.metrics import silhouette_score\n",
    "sil_score = silhouette_score(pca_data, kmeans.labels_)\n",
    "print(f\"Silhouette Score: {sil_score}\")"
   ]
  },
  {
   "cell_type": "code",
   "execution_count": 19,
   "id": "d12c2d9b",
   "metadata": {},
   "outputs": [
    {
     "data": {
      "image/png": "[encoded data removed]",
      "text/plain": [
       "<Figure size 640x480 with 1 Axes>"
      ]
     },
     "metadata": {},
     "output_type": "display_data"
    }
   ],
   "source": [
    "from sklearn.metrics import silhouette_score\n",
    "\n",
    "def visualize_silhouette(cluster_range, data):\n",
    "    # 클러스터 수에 대한 실루엣 점수 계산\n",
    "    silhouette_scores = []\n",
    "    \n",
    "    for n_clusters in cluster_range:\n",
    "        # KMeans 클러스터링 수행\n",
    "        kmeans = KMeans(n_clusters=n_clusters, random_state=42)\n",
    "        cluster_labels = kmeans.fit_predict(data)\n",
    "        \n",
    "        # 실루엣 점수 계산\n",
    "        score = silhouette_score(data, cluster_labels)\n",
    "        silhouette_scores.append(score)\n",
    "    \n",
    "    # 실루엣 점수 시각화\n",
    "    plt.plot(cluster_range, silhouette_scores, marker='o')\n",
    "    plt.xlabel('Number of Clusters')\n",
    "    plt.ylabel('Silhouette Score')\n",
    "    plt.title('Silhouette Scores for Various Cluster Counts')\n",
    "    plt.grid(True)\n",
    "    plt.show()\n",
    "\n",
    "# 실루엣 점수를 시각화할 클러스터 수 범위 설정\n",
    "cluster_range = [2, 3, 4, 5, 6]\n",
    "\n",
    "# PCA 변환된 데이터를 visualize_silhouette 함수에 전달하여 실루엣 점수 확인\n",
    "visualize_silhouette(cluster_range, pca_data)"
   ]
  },
  {
   "cell_type": "code",
   "execution_count": 20,
   "id": "6a31cdf1",
   "metadata": {},
   "outputs": [
    {
     "data": {
      "image/png": "[encoded data removed]",
      "text/plain": [
       "<Figure size 640x480 with 1 Axes>"
      ]
     },
     "metadata": {},
     "output_type": "display_data"
    }
   ],
   "source": [
    "# K-Means 클러스터링\n",
    "kmeans = KMeans(n_clusters=3, random_state=42)  # 클러스터 수는 3으로 설정\n",
    "clusters = kmeans.fit_predict(pca_data)\n",
    "\n",
    "# 결과 시각화\n",
    "plt.scatter(pca_data[:, 0], pca_data[:, 1], c=clusters, cmap='viridis')\n",
    "plt.title('PCA + KMeans Clustering')\n",
    "plt.xlabel('PCA 1')\n",
    "plt.ylabel('PCA 2')\n",
    "plt.show()"
   ]
  },
  {
   "cell_type": "code",
   "execution_count": null,
   "id": "148dbc40",
   "metadata": {},
   "outputs": [],
   "source": []
  }
 ],
 "metadata": {
  "kernelspec": {
   "display_name": "Python 3 (ipykernel)",
   "language": "python",
   "name": "python3"
  },
  "language_info": {
   "codemirror_mode": {
    "name": "ipython",
    "version": 3
   },
   "file_extension": ".py",
   "mimetype": "text/x-python",
   "name": "python",
   "nbconvert_exporter": "python",
   "pygments_lexer": "ipython3",
   "version": "3.9.15"
  }
 },
 "nbformat": 4,
 "nbformat_minor": 5
}
